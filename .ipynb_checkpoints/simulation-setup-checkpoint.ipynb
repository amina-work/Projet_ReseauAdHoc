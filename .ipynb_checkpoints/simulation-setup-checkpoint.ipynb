{
 "cells": [
  {
   "cell_type": "code",
   "execution_count": 9,
   "metadata": {},
   "outputs": [
    {
     "name": "stdout",
     "output_type": "stream",
     "text": [
      "(3, 1) Distance from home : 4\n",
      "(0, 2) Distance from home : 2\n",
      "(1, 1) Distance from home : 2\n",
      "(3, -1) Distance from home : 4\n",
      "(-2, 0) Distance from home : 2\n",
      "(0, 4) Distance from home : 4\n",
      "(0, -2) Distance from home : 2\n",
      "(1, 1) Distance from home : 2\n",
      "(-1, -3) Distance from home : 4\n",
      "(0, 0) Distance from home : 0\n",
      "(1, -1) Distance from home : 2\n",
      "(1, -3) Distance from home : 4\n",
      "(-1, 1) Distance from home : 2\n",
      "(3, 1) Distance from home : 4\n",
      "(0, 2) Distance from home : 2\n",
      "(4, 0) Distance from home : 4\n",
      "(2, -2) Distance from home : 4\n",
      "(-2, 2) Distance from home : 4\n",
      "(2, 2) Distance from home : 4\n",
      "(1, -1) Distance from home : 2\n",
      "(-1, -3) Distance from home : 4\n",
      "(2, -2) Distance from home : 4\n",
      "(2, 0) Distance from home : 2\n",
      "(-1, 3) Distance from home : 4\n",
      "(-2, 2) Distance from home : 4\n"
     ]
    }
   ],
   "source": [
    "import numpy as np\n",
    "import random\n",
    "\n",
    "#setting up the simulation area (forest), creating the nodes and setting up the (random walk) model of mobility\n",
    "\n",
    "nr_nodes = 100  # number of nodes\n",
    "\n",
    "MAX_X, MAX_Y = 100, 100 # simulation area (units)\n",
    "\n",
    "MIN_V, MAX_V = 0.1, 1.  # max and min velocity (the speed of node when moving) [Travel time is the same for all nodes]\n",
    "\n",
    "MAX_WT = 100.   # max waiting time\n",
    "\n",
    "STEPS_TO_IGNORE = 10000    # number of steps to ignore, \n",
    "\n",
    "\n",
    "### Assimulation de model RANDOMWALK de mobilité des noueds ####\n",
    "\n",
    "def random_walk(n):\n",
    "    #return new node coordinates after 'n' block random walk\n",
    "    x, y = 0, 0 #the original place of node\n",
    "    for i in range(n): #similating the n blocks, aka the hops around the node\n",
    "        #dx: difference in x; dy: difference in y. choices: ['N', 'S', 'E', 'W']\n",
    "        (dx, dy) = random.choice([(0, 1), (0, -1), (1, 0), (-1, 0)]) #if north is chosen x =0, y++, if south is chosen x=0, y--...etc\n",
    "        x += dx\n",
    "        y += dy\n",
    "    return(x, y)\n",
    "\n",
    "\n",
    "#testing the model\n",
    "for i in range(25):\n",
    "    walk = random_walk(10)\n",
    "    print(walk, \"Distance from home :\", abs(walk[0]) + abs(walk[1]))"
   ]
  }
 ],
 "metadata": {
  "kernelspec": {
   "display_name": "Python 3.9.12 ('base')",
   "language": "python",
   "name": "python3"
  },
  "language_info": {
   "codemirror_mode": {
    "name": "ipython",
    "version": 3
   },
   "file_extension": ".py",
   "mimetype": "text/x-python",
   "name": "python",
   "nbconvert_exporter": "python",
   "pygments_lexer": "ipython3",
   "version": "3.9.12"
  },
  "vscode": {
   "interpreter": {
    "hash": "30609cf90bf0a0c99a2f7c369f598b537ae17b7fb17d17516a43238b383b4719"
   }
  }
 },
 "nbformat": 4,
 "nbformat_minor": 5
}
