{
 "cells": [
  {
   "cell_type": "code",
   "execution_count": 14,
   "id": "148c5cfb",
   "metadata": {},
   "outputs": [
    {
     "name": "stdout",
     "output_type": "stream",
     "text": [
      "********************************\n",
      "AD-HOC NETWORK TOPOLOGY SIMULATOR\n",
      "********************************\n",
      "[[57, 48, 45, 87, 69, 83, 67, 53, 28, 8, 79, 18], [57, 48, 45, 87, 69, 83, 67, 53, 28, 8, 79, 18], [57, 48, 45, 87, 69, 83, 67, 53, 28, 8, 79, 18]]\n"
     ]
    }
   ],
   "source": [
    "#import the necessary documents\n",
    "import networkx as nx\n",
    "import matplotlib.pyplot as plt\n",
    "import math\n",
    "import sys\n",
    "import random\n",
    "\n",
    "print('********************************')\n",
    "print('AD-HOC NETWORK TOPOLOGY SIMULATOR')\n",
    "print('********************************')\n",
    "\n",
    "#initianizing stuff\n",
    "noueds = ['A', 'B', 'C'] #nodes list\n",
    "voisinDict = {} #nodes neigbors dictionary\n",
    "neighborinfo=[]\n",
    "A= []\n",
    "\n",
    "#def sendDT(): #send Data\n",
    "for i in noueds:         #for readable neighborhood information\n",
    "        x1 = random.randint(0, 100)\n",
    "        x2 = random.randint(0, 100)\n",
    "        y1 = random.randint(0, 100)\n",
    "        y2 = random.randint(0, 100)\n",
    "        A.append(x1)\n",
    "        A.append(x2)\n",
    "        A.append(y1)\n",
    "        A.append(y2)\n",
    "        neighborinfo.append(A)\n",
    "#for each node, this should be returning the surrounding nodes informations\n",
    "\n",
    "print(neighborinfo)\n",
    "        "
   ]
  }
 ],
 "metadata": {
  "kernelspec": {
   "display_name": "Python 3 (ipykernel)",
   "language": "python",
   "name": "python3"
  },
  "language_info": {
   "codemirror_mode": {
    "name": "ipython",
    "version": 3
   },
   "file_extension": ".py",
   "mimetype": "text/x-python",
   "name": "python",
   "nbconvert_exporter": "python",
   "pygments_lexer": "ipython3",
   "version": "3.9.12"
  },
  "vscode": {
   "interpreter": {
    "hash": "30609cf90bf0a0c99a2f7c369f598b537ae17b7fb17d17516a43238b383b4719"
   }
  }
 },
 "nbformat": 4,
 "nbformat_minor": 5
}
