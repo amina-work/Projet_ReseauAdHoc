{
 "cells": [
  {
   "cell_type": "code",
   "execution_count": 5,
   "metadata": {},
   "outputs": [
    {
     "name": "stdout",
     "output_type": "stream",
     "text": [
      "3\n",
      "3\n",
      "4\n",
      "5\n"
     ]
    }
   ],
   "source": [
    "#Creating a node class that contains some data and a single pointer next, that will be used to point to the next node in the linked list\n",
    "\n",
    "#A single node of a singly linked list\n",
    "class Node:\n",
    "  # constructor\n",
    "  def __init__(self, data, next=None): \n",
    "    self.data = data\n",
    "    self.next = next\n",
    "\n",
    "# Testing: Creating a single node\n",
    "#first = Node(3)\n",
    "#print(first.data)\n",
    "\n",
    "# Next: join multiple single nodes using the next pointer to get a linked list\n",
    "# And have a single head pointer to a complete linked list (which is when all nodes have recieved a message connex)\n",
    "class LinkedList:\n",
    "  def __init__(self):  \n",
    "    self.head = None\n",
    "\n",
    "  # insertion method for the linked list (inserting new nodes)\n",
    "  def insert(self, data):\n",
    "    newNode = Node(data)\n",
    "    if(self.head):\n",
    "      current = self.head #if there's already a head node this will follow as second\n",
    "      while(current.next):\n",
    "        current = current.next\n",
    "      current.next = newNode\n",
    "    else:\n",
    "      self.head = newNode #otherwise this will be first head node\n",
    "  \n",
    "  # print method for the linked list (printing the new nodes)\n",
    "  def printLL(self):\n",
    "    current = self.head\n",
    "    while(current):\n",
    "      print(current.data)\n",
    "      current = current.next\n",
    "\n",
    "# Singly Linked List with insertion and print methods\n",
    "LL = LinkedList()\n",
    "LL.insert(3)\n",
    "LL.insert(4)\n",
    "LL.insert(5)\n",
    "LL.printLL()"
   ]
  }
 ],
 "metadata": {
  "kernelspec": {
   "display_name": "Python 3.9.12 ('base')",
   "language": "python",
   "name": "python3"
  },
  "language_info": {
   "codemirror_mode": {
    "name": "ipython",
    "version": 3
   },
   "file_extension": ".py",
   "mimetype": "text/x-python",
   "name": "python",
   "nbconvert_exporter": "python",
   "pygments_lexer": "ipython3",
   "version": "3.9.12"
  },
  "orig_nbformat": 4,
  "vscode": {
   "interpreter": {
    "hash": "30609cf90bf0a0c99a2f7c369f598b537ae17b7fb17d17516a43238b383b4719"
   }
  }
 },
 "nbformat": 4,
 "nbformat_minor": 2
}
