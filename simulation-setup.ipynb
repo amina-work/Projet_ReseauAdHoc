{
 "cells": [
  {
   "cell_type": "code",
   "execution_count": null,
   "id": "148c5cfb",
   "metadata": {},
   "outputs": [],
   "source": [
    "import math\n",
    "import sys\n",
    "\n",
    "noueds = []\n",
    "print('********************************')\n",
    "print('AD-HOC NETWORK TOPOLOGY SIMULATOR')\n",
    "print('********************************')\n",
    "\n",
    "#initianizing variables & lists & objects \n",
    "voisinDict = {}\n",
    "Batt={}\n",
    "Dict={}\n",
    "x=0\n",
    "\n",
    "def route(dict,x,y,routes=None):\n",
    "    if routes is None:\n",
    "        routes = [x]\n",
    "    if x == y:\n",
    "        c=0\n",
    "        for a in range(1,len(routes),1):\n",
    "            distxx=(Dict[routes[a-1]])[0]\n",
    "            distyx=(Dict[routes[a-1]])[1]\n",
    "            distxnext=(Dict[routes[a]])[0]\n",
    "            distynext=(Dict[routes[a]])[1]\n",
    "            dist = math.sqrt(((float(distxnext)-float(distxx))**2)+((float(distynext)-float(distyx))**2))\n",
    "            cost=dist/float(Batt[routes[a]])\n",
    "            c=c+cost\n",
    "        Costs.append(c)\n",
    "        yield routes\n",
    "    for next in dict[x] - set(routes):\n",
    "        yield from route(dict,next,y,routes+[next])"
   ]
  }
 ],
 "metadata": {
  "kernelspec": {
   "display_name": "Python 3.9.12 ('base')",
   "language": "python",
   "name": "python3"
  },
  "language_info": {
   "codemirror_mode": {
    "name": "ipython",
    "version": 3
   },
   "file_extension": ".py",
   "mimetype": "text/x-python",
   "name": "python",
   "nbconvert_exporter": "python",
   "pygments_lexer": "ipython3",
   "version": "3.9.12"
  },
  "vscode": {
   "interpreter": {
    "hash": "30609cf90bf0a0c99a2f7c369f598b537ae17b7fb17d17516a43238b383b4719"
   }
  }
 },
 "nbformat": 4,
 "nbformat_minor": 5
}
